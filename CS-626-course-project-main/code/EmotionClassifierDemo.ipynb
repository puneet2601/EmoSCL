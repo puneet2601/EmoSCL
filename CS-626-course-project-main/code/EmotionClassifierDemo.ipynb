{
 "cells": [
  {
   "cell_type": "code",
   "execution_count": 1,
   "id": "ff09e9b1-c3aa-4d82-80b4-af3baae4d9e7",
   "metadata": {},
   "outputs": [],
   "source": [
    "import torch\n",
    "import gradio as gr\n",
    "import torch.nn as nn\n",
    "import torch.nn.functional as F\n",
    "from transformers import RobertaTokenizer, RobertaModel, BertTokenizer, BertModel\n",
    "from torch.utils.data import DataLoader, Dataset\n",
    "from datasets import load_dataset\n",
    "from pytorch_metric_learning.losses import NTXentLoss, SupConLoss, CrossBatchMemory\n",
    "from sklearn.metrics import adjusted_mutual_info_score, adjusted_rand_score, fowlkes_mallows_score\n",
    "from sklearn.cluster import KMeans\n",
    "from sklearn.metrics.pairwise import cosine_similarity\n",
    "from sklearn.metrics import pairwise_distances\n",
    "import numpy as np\n",
    "import umap.umap_ as umap\n",
    "import matplotlib.pyplot as plt\n",
    "import matplotlib.patches as mpatches\n",
    "import seaborn as sns\n",
    "from tqdm import tqdm\n",
    "from timeit import default_timer as dtimer"
   ]
  },
  {
   "cell_type": "code",
   "execution_count": 2,
   "id": "56903f8d-0611-4bdb-b7d7-d763344e7104",
   "metadata": {},
   "outputs": [],
   "source": [
    "emotions_list = [\n",
    "    'admiration',\n",
    "    'amusement',\n",
    "    'anger',\n",
    "    'annoyance',\n",
    "    'approval',\n",
    "    'caring',\n",
    "    'confusion',\n",
    "    'curiosity',\n",
    "    'desire',\n",
    "    'disappointment',\n",
    "    'disapproval',\n",
    "    'disgust',\n",
    "    'embarrassment',\n",
    "    'excitement',\n",
    "    'fear',\n",
    "    'gratitude',\n",
    "    'grief',\n",
    "    'joy',\n",
    "    'love',\n",
    "    'nervousness',\n",
    "    'optimism',\n",
    "    'pride',\n",
    "    'realization',\n",
    "    'relief',\n",
    "    'remorse',\n",
    "    'sadness',\n",
    "    'surprise',\n",
    "    'neutral']"
   ]
  },
  {
   "cell_type": "code",
   "execution_count": 3,
   "id": "9edd1bce-f872-4221-a187-1486a4938a43",
   "metadata": {},
   "outputs": [],
   "source": [
    "#device = 'cuda' if torch.cuda.is_available() else 'cpu'\n",
    "device = 'cpu'"
   ]
  },
  {
   "cell_type": "code",
   "execution_count": 4,
   "id": "a264396c-4df4-4a66-8378-994bf2988917",
   "metadata": {},
   "outputs": [],
   "source": [
    "# Contrastive RoBERTa model with projection head\n",
    "class RoBertaEmo(nn.Module):\n",
    "    def __init__(self, pretrained_model_name='roberta-base', projection_dim=64, drop_out_rate=0.1):\n",
    "        super(RoBertaEmo, self).__init__()\n",
    "        self.encoder = RobertaModel.from_pretrained(pretrained_model_name)\n",
    "        self.projection = nn.Sequential(\n",
    "            nn.Linear(self.encoder.config.hidden_size, projection_dim),\n",
    "            nn.ReLU(),\n",
    "            nn.Dropout(p=drop_out_rate),\n",
    "            nn.Linear(projection_dim, projection_dim)\n",
    "        )\n",
    "        #self.projection = nn.Linear(self.encoder.config.hidden_size, projection_dim)\n",
    "\n",
    "    def forward(self, input_ids, attention_mask):\n",
    "        outputs = self.encoder(input_ids=input_ids, attention_mask=attention_mask)\n",
    "        cls_embedding = outputs.last_hidden_state[:, 0]  # [CLS] token\n",
    "        projection = self.projection(cls_embedding)\n",
    "        return F.normalize(projection, p=2, dim=1), cls_embedding"
   ]
  },
  {
   "cell_type": "code",
   "execution_count": 5,
   "id": "817138f0-f0b9-46c6-a809-8dcf2795af0c",
   "metadata": {},
   "outputs": [],
   "source": [
    "class EmotionClassifier(nn.Module):\n",
    "    def __init__(self, input_features, num_classes, drop_out_rate=0.5):\n",
    "        super(EmotionClassifier, self).__init__()\n",
    "        self.layers = nn.Sequential(\n",
    "            nn.Linear(input_features, 384),\n",
    "            nn.ReLU(),\n",
    "            nn.BatchNorm1d(384),\n",
    "            nn.Dropout(p=drop_out_rate),\n",
    "            nn.Linear(384, 256),\n",
    "            nn.ReLU(),\n",
    "            nn.BatchNorm1d(256),\n",
    "            nn.Dropout(p=drop_out_rate),\n",
    "            nn.Linear(256, 128),\n",
    "            nn.ReLU(),\n",
    "            nn.Dropout(p=drop_out_rate),\n",
    "            nn.Linear(128, num_classes),\n",
    "        )\n",
    "        \n",
    "    def forward(self, x):\n",
    "        x = self.layers(x)\n",
    "        return x"
   ]
  },
  {
   "cell_type": "code",
   "execution_count": 6,
   "id": "350d16ec-0e24-47bf-9c19-62371fc9f22b",
   "metadata": {},
   "outputs": [
    {
     "name": "stderr",
     "output_type": "stream",
     "text": [
      "Some weights of RobertaModel were not initialized from the model checkpoint at roberta-base and are newly initialized: ['roberta.pooler.dense.bias', 'roberta.pooler.dense.weight']\n",
      "You should probably TRAIN this model on a down-stream task to be able to use it for predictions and inference.\n"
     ]
    },
    {
     "data": {
      "text/plain": [
       "<All keys matched successfully>"
      ]
     },
     "execution_count": 6,
     "metadata": {},
     "output_type": "execute_result"
    }
   ],
   "source": [
    "robertaEmoModel = RoBertaEmo()\n",
    "robertaEmoModel.load_state_dict(torch.load('RoBertaEmoElastic.pth', map_location=device, weights_only=True))"
   ]
  },
  {
   "cell_type": "code",
   "execution_count": 7,
   "id": "48fbea4c-2964-4c67-bd2b-97719b140fba",
   "metadata": {},
   "outputs": [],
   "source": [
    "input_features = 768\n",
    "num_classes = 27"
   ]
  },
  {
   "cell_type": "code",
   "execution_count": 8,
   "id": "c27ad893-fa59-4cae-a2ce-18590df0a5f4",
   "metadata": {},
   "outputs": [
    {
     "data": {
      "text/plain": [
       "<All keys matched successfully>"
      ]
     },
     "execution_count": 8,
     "metadata": {},
     "output_type": "execute_result"
    }
   ],
   "source": [
    "emoClassifer = EmotionClassifier(input_features, num_classes)\n",
    "emoClassifer.load_state_dict(torch.load('RoBertaEmoClassifier.pth', map_location=device, weights_only=True))"
   ]
  },
  {
   "cell_type": "code",
   "execution_count": 9,
   "id": "7c762141-86bd-4a0c-bcc1-0d011f09bed5",
   "metadata": {},
   "outputs": [
    {
     "name": "stderr",
     "output_type": "stream",
     "text": [
      "/home/soumya/.local/lib/python3.11/site-packages/transformers/tokenization_utils_base.py:1601: FutureWarning: `clean_up_tokenization_spaces` was not set. It will be set to `True` by default. This behavior will be depracted in transformers v4.45, and will be then set to `False` by default. For more details check this issue: https://github.com/huggingface/transformers/issues/31884\n",
      "  warnings.warn(\n"
     ]
    }
   ],
   "source": [
    "tokenizer = RobertaTokenizer.from_pretrained(\"roberta-base\")"
   ]
  },
  {
   "cell_type": "code",
   "execution_count": 10,
   "id": "1fa59adf-b94b-4344-8b5e-807239d000b1",
   "metadata": {},
   "outputs": [],
   "source": [
    "def predict(sentence):\n",
    "    \"\"\"\n",
    "        Predicts Emotion in\n",
    "    \n",
    "        Args:\n",
    "          sentence : English sentence for which primary emotion will be predicted\n",
    "    \n",
    "        Returns:\n",
    "          Predicted primary emotion in string format\n",
    "        \"\"\"\n",
    "    start_time = dtimer() \n",
    "    inputs = tokenizer(sentence, return_tensors=\"pt\", padding=True, truncation=True)\n",
    "    with torch.no_grad():\n",
    "        output_model = robertaEmoModel.encoder(**inputs)\n",
    "\n",
    "    embeddings = output_model.last_hidden_state[:, 0]\n",
    "\n",
    "    emoClassifer.eval()\n",
    "    with torch.inference_mode():\n",
    "        outputs = emoClassifer(embeddings)\n",
    "        \n",
    "    _, predicted = torch.max(outputs.data, 1)\n",
    "    predicted = int(predicted)\n",
    "    predicted_emotion = emotions_list[predicted]\n",
    "    total_time = round(dtimer() - start_time, 2)\n",
    "    return predicted_emotion, total_time"
   ]
  },
  {
   "cell_type": "code",
   "execution_count": 11,
   "id": "d5428875-f851-4956-abdd-77b901e9f185",
   "metadata": {},
   "outputs": [],
   "source": [
    "title = \"RobertaEmo based Emotion classifier\"\n",
    "description = \"Predicts primary emotion in an english sentence\"\n",
    "article = \"Created for CS 626 - Course Project\""
   ]
  },
  {
   "cell_type": "code",
   "execution_count": 12,
   "id": "67faf89b-a25b-49fa-b05b-ec6b9b0713d7",
   "metadata": {},
   "outputs": [],
   "source": [
    "# Create the Gradio demo\n",
    "demo = gr.Interface(fn=predict, \n",
    "                    inputs=gr.Text(label=\"English Sentence\"), \n",
    "                    outputs=[gr.Text(label=\"Predicted Primary Emotion\"), \n",
    "                             gr.Number(label=\"Prediction time (seconds)\")],\n",
    "                    title=title,\n",
    "                    description=description,\n",
    "                    article=article)"
   ]
  },
  {
   "cell_type": "code",
   "execution_count": 13,
   "id": "c6f671f7-e4c8-4e33-bca5-8d3d7727bc8d",
   "metadata": {},
   "outputs": [
    {
     "name": "stdout",
     "output_type": "stream",
     "text": [
      "* Running on local URL:  http://127.0.0.1:7860\n",
      "* Running on public URL: https://6a999ab31a3270dd4f.gradio.live\n",
      "\n",
      "This share link expires in 72 hours. For free permanent hosting and GPU upgrades, run `gradio deploy` from the terminal in the working directory to deploy to Hugging Face Spaces (https://huggingface.co/spaces)\n"
     ]
    },
    {
     "data": {
      "text/html": [
       "<div><iframe src=\"https://6a999ab31a3270dd4f.gradio.live\" width=\"100%\" height=\"500\" allow=\"autoplay; camera; microphone; clipboard-read; clipboard-write;\" frameborder=\"0\" allowfullscreen></iframe></div>"
      ],
      "text/plain": [
       "<IPython.core.display.HTML object>"
      ]
     },
     "metadata": {},
     "output_type": "display_data"
    },
    {
     "data": {
      "text/plain": []
     },
     "execution_count": 13,
     "metadata": {},
     "output_type": "execute_result"
    }
   ],
   "source": [
    "# Launch the demo!\n",
    "demo.launch(share=True)"
   ]
  }
 ],
 "metadata": {
  "kernelspec": {
   "display_name": "Python 3 (ipykernel)",
   "language": "python",
   "name": "python3"
  },
  "language_info": {
   "codemirror_mode": {
    "name": "ipython",
    "version": 3
   },
   "file_extension": ".py",
   "mimetype": "text/x-python",
   "name": "python",
   "nbconvert_exporter": "python",
   "pygments_lexer": "ipython3",
   "version": "3.11.2"
  }
 },
 "nbformat": 4,
 "nbformat_minor": 5
}
